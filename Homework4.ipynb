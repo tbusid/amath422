{
 "cells": [
  {
   "cell_type": "code",
   "execution_count": 1,
   "id": "6dbd1fcc-933c-44fe-8070-0f06a580537c",
   "metadata": {},
   "outputs": [],
   "source": [
    "import matplotlib.pylab as plt   # That gives plotting, and the next line makes plots appear inline in notebook\n",
    "%matplotlib inline  \n",
    "import numpy as np  # That gives numerical arrays and tools for manipulating them\n",
    "import scipy.optimize as opt\n",
    "import scipy.linalg as la"
   ]
  },
  {
   "cell_type": "code",
   "execution_count": 86,
   "id": "ab442bf0-3131-4f1c-b015-c09c8b2a0515",
   "metadata": {},
   "outputs": [],
   "source": [
    "### Part II\n",
    "rng = np.random.default_rng()"
   ]
  },
  {
   "cell_type": "code",
   "execution_count": 72,
   "id": "efe51a29-9229-4bd5-b785-55ee61dddb02",
   "metadata": {},
   "outputs": [],
   "source": [
    "A = np.array([[0.98, 0.1, 0], [0.02, 0.7, 0.05], [0, 0.2, 0.95]])"
   ]
  },
  {
   "cell_type": "code",
   "execution_count": 96,
   "id": "51f5dc06-cccc-414e-bd43-745d3b8304ff",
   "metadata": {},
   "outputs": [],
   "source": [
    "Tmax=5000\n",
    "\n",
    "#intialize array of states; need to be integers as will use as indices below\n",
    "states=np.zeros(Tmax,dtype=int)\n",
    "#set initial state\n",
    "states[0]=0        "
   ]
  },
  {
   "cell_type": "code",
   "execution_count": 97,
   "id": "52fee067-ab88-4d8d-bc5b-5110106e1456",
   "metadata": {},
   "outputs": [],
   "source": [
    "for t in np.arange(Tmax-1):\n",
    "    r = rng.uniform(0,1,1)   #draw random variable (uniformly distributed in 0,1)\n",
    "\n",
    "    if r < A[0, states[t]] :     #%for transition FROM states[t] to state 0\n",
    "        states[t+1] = 0\n",
    "    else:\n",
    "        states[t+1] = 1"
   ]
  },
  {
   "cell_type": "code",
   "execution_count": 98,
   "id": "ff062cb8-aed5-473e-9fb9-07d38e7fec38",
   "metadata": {},
   "outputs": [
    {
     "data": {
      "text/plain": [
       "Text(0, 0.5, 'timestep')"
      ]
     },
     "execution_count": 98,
     "metadata": {},
     "output_type": "execute_result"
    },
    {
     "data": {
      "image/png": "[encoded data removed]",
      "text/plain": [
       "<Figure size 432x288 with 1 Axes>"
      ]
     },
     "metadata": {
      "needs_background": "light"
     },
     "output_type": "display_data"
    }
   ],
   "source": [
    "plt.plot(states)\n",
    "plt.xlabel('state')\n",
    "plt.ylabel('timestep')"
   ]
  },
  {
   "cell_type": "code",
   "execution_count": null,
   "id": "06379f88-d1b0-402c-9fe8-fdbbb001af7a",
   "metadata": {},
   "outputs": [],
   "source": [
    "### Part I\n",
    "## 4 open states, 2 closed states\n",
    "### If a supersate contains N indistiguishable states the \n",
    "### P(dwell time = m) = c1lambda1^m+c2lambda2^m+...+cNlambdaN^m\n",
    "### open states are s1-s4; closed states s5 and s6\n",
    "### Matrix A = ([[a11, a12, a13, a14, a15, a16], \n",
    "### [a21, a22, a23, a24, a25, a26],.....,[a61, a62, a63, a64, a65, a66]])\n",
    "### vector p(k) = ([p1(k), p2(k), p3(k), p4(k), p5(k), p6(k)])\n",
    "### p(0) = ([p1(0), p2(0), p3(0), p4(0), 0, 0]) because it is open so\n",
    "### the probability of it being in one of the closed states is 0.\n",
    "### p(1) = Ap(0) = ([a11p1(0)+a12p2(0)+a13p3(0)+a14p4(0)],\n",
    "### [a21p1(0)+a22p2(0)+a23p3(0)+a24p4(0)],\n",
    "### [a31p1(0)+a32p2(0)+a33p3(0)+a34p4(0)],\n",
    "### [a41p1(0)+a42p2(0)+a43p3(0)+a44p4(0)]) \n",
    "### We do not care about the last two rows because they are the closed states.\n",
    "### p^c(k) is the probability of being in state at time k given\n",
    "### in state 1, 2, 3, 4 for any time between 0 and k.\n",
    "### p^c(1)= ([[a11, a12, a13, a14], [a21, a22, a23, a24], [a31, a32, a33, a34], \n",
    "### [a41, a42, a43, a44]])[p1^c(0),p2^c(0),p3^c(0),p4^c(0)]\n",
    "### p^c(k+1)= ([[a11, a12, a13, a14], [a21, a22, a23, a24], [a31, a32, a33, a34],\n",
    "### [a41, a42, a43, a44]])[p1^c(k),p2^c(k),p3^c(k),p4^c(k)]\n",
    "### [p1^c(k),p2^c(k),p3^c(k),p4^c(k)] = c1lambda1^k[(v_1,1),(v_1,2),(v_1,3),(v_1,4)]+\n",
    "### c2lambda2^k[(v_2,1),(v_2,2),(v_2,3),(v_2,4)]+\n",
    "### c3lambda3^k[(v_3,1),(v_3,2),(v_3,3),(v_3,4)]+\n",
    "### c4lambda4^k[(v_4,1),(v_4,2),(v_4,3),(v_4,4)]\n",
    "### probability(state is in 1,2,3,or 4 for time 0,...,k)= \n",
    "### k1lambda1^k+k2lambda2^k+k3lambda3^k+k4lambda4^k\n",
    "### p(dwell time is exactly m steps) = p^dwell(k)\n",
    "### k1lambda1^k+k2lambda2^k+k3lambda3^k+k4lambda4^k=\n",
    "## from m=k to infinity sigma p^dwell(k)\n",
    "### k1lambda1^(k+1)+k2lambda2^(k+1)+k3lambda3^(k+1)+k4lambda4^(k+1)=\n",
    "### from m=k+1 to infinity sigma p^dwell(k)\n",
    "### p^dwell(k) = k1lambda1^k+k2lambda2^k+k3lambda3^k+k4lambda4^k- \n",
    "### k1lambda1^(k+1)+k2lambda2^(k+1)+k3lambda3^(k+1)+k4lambda4^(k+1)\n",
    "### p^dwell(k) = k1lambda1^k(1-lambda1)+k2lambda2^k(1-lambda2)+\n",
    "### k3lambda3^k(1-lambda3)+k4lambda4^k(1-lambda4)\n",
    "### p^dwell(k) = k1^mlambda1^k+k2^mlambda2^k+k3^mlambda3^k+k4^mlambda4^k"
   ]
  }
 ],
 "metadata": {
  "kernelspec": {
   "display_name": "Python 3 (ipykernel)",
   "language": "python",
   "name": "python3"
  },
  "language_info": {
   "codemirror_mode": {
    "name": "ipython",
    "version": 3
   },
   "file_extension": ".py",
   "mimetype": "text/x-python",
   "name": "python",
   "nbconvert_exporter": "python",
   "pygments_lexer": "ipython3",
   "version": "3.9.12"
  }
 },
 "nbformat": 4,
 "nbformat_minor": 5
}
