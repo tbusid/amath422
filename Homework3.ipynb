{
 "cells": [
  {
   "cell_type": "code",
   "execution_count": 1,
   "id": "27feeeef-feb1-4935-b65c-e1438648400c",
   "metadata": {},
   "outputs": [],
   "source": [
    "#Homework 3\n",
    "#Part I"
   ]
  },
  {
   "cell_type": "code",
   "execution_count": 35,
   "id": "f752baad-16a3-4d1b-b29c-a9e04b80cb2e",
   "metadata": {},
   "outputs": [],
   "source": [
    "import matplotlib.pylab as plt \n",
    "%matplotlib inline  \n",
    "import numpy as np \n",
    "\n",
    "import scipy.optimize as opt\n",
    "import scipy.linalg as la\n",
    "#projection matrix A\n",
    "A=np.array([[0, 0.24],[0.0722, 0.9826]])"
   ]
  },
  {
   "cell_type": "code",
   "execution_count": 36,
   "id": "6588077c-1374-4345-bf2f-8c1d2bc16e67",
   "metadata": {},
   "outputs": [
    {
     "name": "stdout",
     "output_type": "stream",
     "text": [
      "[-0.017+0.j  1.   +0.j] [[-0.997 -0.233]\n",
      " [ 0.072 -0.972]]\n",
      "[0.017 1.   ]\n",
      "(0.9999292264508598+0j)\n"
     ]
    }
   ],
   "source": [
    "l,v = la.eig(A)\n",
    "print(l,v)\n",
    "idx=np.argsort(np.abs(l))\n",
    "l_sorted=l[idx]  \n",
    "v_sorted=v[:,idx]\n",
    "lambda_max= l_sorted[-1]\n",
    "v_max = v_sorted[:,-1]\n",
    "print(abs(l_sorted))\n",
    "print(lambda_max)"
   ]
  },
  {
   "cell_type": "code",
   "execution_count": 37,
   "id": "234d0a70-8d93-4885-bc18-054b427c6990",
   "metadata": {},
   "outputs": [],
   "source": [
    "l,v_left = la.eig(np.transpose(A))\n",
    "idx=np.argsort(np.abs(l))\n",
    "l_sorted=l[idx]  \n",
    "v_left_sorted=v_left[:,idx]\n",
    "v_left_max = v_left_sorted[:,-1]"
   ]
  },
  {
   "cell_type": "code",
   "execution_count": 38,
   "id": "80d486d5-1c9c-42a9-bf7d-32f6b6d8967b",
   "metadata": {},
   "outputs": [
    {
     "name": "stdout",
     "output_type": "stream",
     "text": [
      "[[0.017 0.071]\n",
      " [0.236 0.983]]\n"
     ]
    }
   ],
   "source": [
    "s = np.outer(v_left_max,v_max)/np.dot(v_left_max,v_max)\n",
    "\n",
    "np.set_printoptions(precision=3,suppress=True)\n",
    "print(np.real(s))  "
   ]
  },
  {
   "cell_type": "code",
   "execution_count": 39,
   "id": "60456623-d41d-4c71-a557-da0e4786861b",
   "metadata": {},
   "outputs": [
    {
     "name": "stdout",
     "output_type": "stream",
     "text": [
      "[[0.    0.017]\n",
      " [0.017 0.966]]\n"
     ]
    }
   ],
   "source": [
    "e= s * A / lambda_max\n",
    "print(np.real(e))"
   ]
  },
  {
   "cell_type": "code",
   "execution_count": null,
   "id": "cb61f414-01ca-46e5-bf79-2ac7932af08f",
   "metadata": {},
   "outputs": [],
   "source": [
    "### The elastacity for fecundity values fa is not the same for all ages a.\n",
    "### The elasticty for annual survival probabilities values pa is not the \n",
    "### same for all ages a neither."
   ]
  },
  {
   "cell_type": "code",
   "execution_count": null,
   "id": "598f6bc0-fcd6-46c5-b446-9d8ff2f30d06",
   "metadata": {},
   "outputs": [],
   "source": [
    "### Perhaps the elasticities are different because of the high difference\n",
    "### in values for fecundity and annual survial propabilities in each age group.\n",
    "### The annual survival probabilities for an owl ages 0-3 is so much smaller\n",
    "### than the anual survival probabilities for an owl age 3-49.\n",
    "### This is the same for fecundity as owls aged 0-3 can not produce offspring."
   ]
  }
 ],
 "metadata": {
  "kernelspec": {
   "display_name": "Python 3 (ipykernel)",
   "language": "python",
   "name": "python3"
  },
  "language_info": {
   "codemirror_mode": {
    "name": "ipython",
    "version": 3
   },
   "file_extension": ".py",
   "mimetype": "text/x-python",
   "name": "python",
   "nbconvert_exporter": "python",
   "pygments_lexer": "ipython3",
   "version": "3.9.12"
  }
 },
 "nbformat": 4,
 "nbformat_minor": 5
}
