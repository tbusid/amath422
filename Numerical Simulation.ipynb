{
 "cells": [
  {
   "cell_type": "markdown",
   "metadata": {
    "id": "TaxltWCvRR9g"
   },
   "source": [
    "Recreating Section 4 Figure 6\n"
   ]
  },
  {
   "cell_type": "code",
   "execution_count": null,
   "metadata": {
    "id": "KbaVUoz7RX9F"
   },
   "outputs": [],
   "source": [
    "# Functions with Translocation Strategy\n",
    "\n",
    "# Donor Population equation\n",
    "\n",
    "# inputs\n",
    "# u = recruitment rate aka birth rate/increasing,\n",
    "# y1 = population of donor population at t \n",
    "# k = carrying capacity \n",
    "# h = rate rhinos are being translocated\n",
    "\n",
    "def donor_pop(t,x,u1,k1,h1):\n",
    "  y1 = x[0]\n",
    "  dy1dt = u1y1*(1-y1/k1)-h1*y1\n",
    "  return \n",
    "  # return np.array([dy1dt])\n",
    "def reciever_pop1():\n",
    "  y2 = x[0]\n",
    "  dy2dt = u2y2*(1-y2/k2) + p*h1*y1 - h2y2\n",
    "  return np.array([dy2dt])\n",
    "def reciever_pop2():\n",
    "  y3 = x[0]\n",
    "  dy3dt = u3y3*(1-y3/k3) + (1-p)*h1*y1 + h2y2\n",
    "  return np.array([dy3dt])"
   ]
  },
  {
   "cell_type": "code",
   "execution_count": null,
   "metadata": {
    "id": "k6K8W4bfXgrj"
   },
   "outputs": [],
   "source": [
    "#testing donor population\n",
    "u1 = 1/7\n",
    "k1 = 200+20*sin((pi*t)/5)\n",
    "h1 = 0.001\n",
    "\n"
   ]
  }
 ],
 "metadata": {
  "colab": {
   "provenance": []
  },
  "kernelspec": {
   "display_name": "Python 3 (ipykernel)",
   "language": "python",
   "name": "python3"
  },
  "language_info": {
   "codemirror_mode": {
    "name": "ipython",
    "version": 3
   },
   "file_extension": ".py",
   "mimetype": "text/x-python",
   "name": "python",
   "nbconvert_exporter": "python",
   "pygments_lexer": "ipython3",
   "version": "3.9.13"
  }
 },
 "nbformat": 4,
 "nbformat_minor": 4
}
